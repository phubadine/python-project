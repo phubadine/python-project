{
  "nbformat": 4,
  "nbformat_minor": 0,
  "metadata": {
    "colab": {
      "provenance": [],
      "toc_visible": true,
      "include_colab_link": true
    },
    "kernelspec": {
      "name": "python3",
      "display_name": "Python 3"
    },
    "language_info": {
      "name": "python"
    }
  },
  "cells": [
    {
      "cell_type": "markdown",
      "metadata": {
        "id": "view-in-github",
        "colab_type": "text"
      },
      "source": [
        "<a href=\"https://colab.research.google.com/github/phubadine/python-project/blob/main/%E0%B8%A1%E0%B8%AB%E0%B8%B2%E0%B8%81%E0%B8%B2%E0%B8%9E%E0%B8%A2%E0%B9%8C_Python.ipynb\" target=\"_parent\"><img src=\"https://colab.research.google.com/assets/colab-badge.svg\" alt=\"Open In Colab\"/></a>"
      ]
    },
    {
      "cell_type": "markdown",
      "source": [
        "# **Python**\n"
      ],
      "metadata": {
        "id": "47xTCZ3kxKYu"
      }
    },
    {
      "cell_type": "markdown",
      "source": [
        "![python-logo-master-v3-TM-flattened.png](data:image/png;base64,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)\n",
        "\n",
        "\n",
        "\n"
      ],
      "metadata": {
        "id": "jLc5krAu_SUf"
      }
    },
    {
      "cell_type": "markdown",
      "source": [
        "# **Basic**"
      ],
      "metadata": {
        "id": "L6z7lUZECI1M"
      }
    },
    {
      "cell_type": "markdown",
      "source": [
        "## **if-else Shorthandf**"
      ],
      "metadata": {
        "id": "0FtmiYJJCQdk"
      }
    },
    {
      "cell_type": "code",
      "source": [
        "a = 2\n",
        "b = 4\n",
        "print('A') if a > b else print('B')"
      ],
      "metadata": {
        "colab": {
          "base_uri": "https://localhost:8080/"
        },
        "id": "puTsuZmXD4Li",
        "outputId": "1b72ab1d-8213-4688-9be4-15f02ded79bf"
      },
      "execution_count": null,
      "outputs": [
        {
          "output_type": "stream",
          "name": "stdout",
          "text": [
            "B\n"
          ]
        }
      ]
    },
    {
      "cell_type": "code",
      "source": [
        "n = 2\n",
        "\n",
        "if n == 0 or n == 1 or n == 2 or n == 3 or n == 4 or n == 5:  print('Yes!')\n",
        "if n in [0, 1, 2, 3, 4, 5]:  print('Yes!')"
      ],
      "metadata": {
        "colab": {
          "base_uri": "https://localhost:8080/"
        },
        "id": "lnAM_c5aGtLZ",
        "outputId": "2e22753c-af1a-4a08-85d9-ac2a95c185f7"
      },
      "execution_count": null,
      "outputs": [
        {
          "output_type": "stream",
          "name": "stdout",
          "text": [
            "Yes!\n",
            "Yes!\n"
          ]
        }
      ]
    },
    {
      "cell_type": "markdown",
      "source": [
        "## **for loop Shorthandf**"
      ],
      "metadata": {
        "id": "nqphquFaFxDD"
      }
    },
    {
      "cell_type": "code",
      "source": [
        "num = [1, 2, 3, 4, 5]\n",
        "\n",
        "num_new = [n for n in num]\n",
        "print('Normal (n) :',num_new)\n",
        "\n",
        "num_new = [n*n for n in num]\n",
        "print('Normal (n*n) :',num_new)"
      ],
      "metadata": {
        "colab": {
          "base_uri": "https://localhost:8080/"
        },
        "id": "bJhS8J9dF0YR",
        "outputId": "6f060d79-280b-4626-812a-5bb835bba1a6"
      },
      "execution_count": null,
      "outputs": [
        {
          "output_type": "stream",
          "name": "stdout",
          "text": [
            "Normal (n) : [1, 2, 3, 4, 5]\n",
            "Normal (n*n) : [1, 4, 9, 16, 25]\n"
          ]
        }
      ]
    },
    {
      "cell_type": "markdown",
      "source": [
        "## **EX1**"
      ],
      "metadata": {
        "id": "AlqBADY8KCtI"
      }
    },
    {
      "cell_type": "code",
      "source": [
        "v = input().split()\n",
        "v_ = []\n",
        "for i in v:\n",
        "    i = int(i)\n",
        "    v_.append(i)\n",
        "print(v_)"
      ],
      "metadata": {
        "colab": {
          "base_uri": "https://localhost:8080/"
        },
        "id": "WVW2UOKzJjpR",
        "outputId": "96382801-b84e-41aa-b1e1-060544cc5e21"
      },
      "execution_count": null,
      "outputs": [
        {
          "output_type": "stream",
          "name": "stdout",
          "text": [
            "1 2 3 4 5\n",
            "[1, 2, 3, 4, 5]\n"
          ]
        }
      ]
    },
    {
      "cell_type": "code",
      "source": [
        "v = [int(i) for i in input('Input : ').split()]\n",
        "print(v)"
      ],
      "metadata": {
        "colab": {
          "base_uri": "https://localhost:8080/"
        },
        "id": "tBb0xOz-Jb1B",
        "outputId": "fdb2ee76-d13f-436a-8332-bd1650708ae6"
      },
      "execution_count": null,
      "outputs": [
        {
          "output_type": "stream",
          "name": "stdout",
          "text": [
            "Input : 1 2 3 4 5\n",
            "[1, 2, 3, 4, 5]\n"
          ]
        }
      ]
    },
    {
      "cell_type": "markdown",
      "source": [
        "## **EX2**"
      ],
      "metadata": {
        "id": "OuJDX5lpKM3Y"
      }
    },
    {
      "cell_type": "code",
      "source": [
        "a = [1, 2, 3, 4, 5, 6]\n",
        "b = []\n",
        "for i in a:\n",
        "    if i % 2 == 1:\n",
        "        b.append(i)\n",
        "print(b)"
      ],
      "metadata": {
        "id": "kSAMdKdXJInh"
      },
      "execution_count": null,
      "outputs": []
    },
    {
      "cell_type": "code",
      "source": [
        "a = [1, 2, 3, 4, 5]\n",
        "b = [ i for i in a if i % 2 == 0]\n",
        "print(b)"
      ],
      "metadata": {
        "colab": {
          "base_uri": "https://localhost:8080/"
        },
        "id": "yKd94SFKI1ai",
        "outputId": "d8b60be7-cbb7-4a8a-84ec-a217da1fc7d2"
      },
      "execution_count": null,
      "outputs": [
        {
          "output_type": "stream",
          "name": "stdout",
          "text": [
            "[2, 4]\n"
          ]
        }
      ]
    },
    {
      "cell_type": "markdown",
      "source": [
        "รูปแบบ \n",
        "\n",
        "---\n",
        "\n",
        "\n",
        "```\n",
        "def function([parameters]):\n",
        "    statement\n",
        "    return [expression]\n",
        "```\n",
        "\n"
      ],
      "metadata": {
        "id": "FuBx9i62Bbu_"
      }
    },
    {
      "cell_type": "markdown",
      "source": [
        "# **Function**"
      ],
      "metadata": {
        "id": "nr5whvRvBOqP"
      }
    },
    {
      "cell_type": "code",
      "execution_count": null,
      "metadata": {
        "id": "j2wQ_Wcbd3gB",
        "colab": {
          "base_uri": "https://localhost:8080/"
        },
        "outputId": "494d40c1-a59e-48ff-f429-32605d69b003"
      },
      "outputs": [
        {
          "output_type": "stream",
          "name": "stdout",
          "text": [
            "Hello Function!\n"
          ]
        }
      ],
      "source": [
        "def printme(str):\n",
        "    print(str)\n",
        "    return\n",
        "printme('Hello Function!')"
      ]
    },
    {
      "cell_type": "markdown",
      "source": [
        "## Pass by reference vs value"
      ],
      "metadata": {
        "id": "uRYffeYtC_zv"
      }
    },
    {
      "cell_type": "markdown",
      "source": [
        "![333719432_5115407265250175_6744837120647159322_n.jpg](data:image/jpeg;base64,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)"
      ],
      "metadata": {
        "id": "ZBMaug_aC4s3"
      }
    },
    {
      "cell_type": "markdown",
      "source": [
        "Pass by reference"
      ],
      "metadata": {
        "id": "ZoZRVQCOEdUw"
      }
    },
    {
      "cell_type": "code",
      "source": [
        "def changeme(mylist):\n",
        "    mylist.append([1,2,3,4,5]);\n",
        "    print('Value inside :',mylist)\n",
        "    return\n",
        "mylist = [10,20,30];\n",
        "changeme(mylist)\n",
        "print('Value outside :',mylist)"
      ],
      "metadata": {
        "colab": {
          "base_uri": "https://localhost:8080/"
        },
        "id": "ySrEz3csDbzI",
        "outputId": "67acf61b-0f69-4572-a9fb-2d934c5bff1d"
      },
      "execution_count": null,
      "outputs": [
        {
          "output_type": "stream",
          "name": "stdout",
          "text": [
            "Value inside : [10, 20, 30, [1, 2, 3, 4, 5]]\n",
            "Value outside : [10, 20, 30, [1, 2, 3, 4, 5]]\n"
          ]
        }
      ]
    },
    {
      "cell_type": "markdown",
      "source": [
        "local variable"
      ],
      "metadata": {
        "id": "SWpyKUVCEfp_"
      }
    },
    {
      "cell_type": "code",
      "source": [
        "def changeme(mylist):\n",
        "    mylist = [1,2,3,4,5];\n",
        "    print('Value inside :',mylist)\n",
        "    return\n",
        "mylist = [10,20,30];\n",
        "changeme(mylist)\n",
        "print('Value outside :',mylist)"
      ],
      "metadata": {
        "colab": {
          "base_uri": "https://localhost:8080/"
        },
        "id": "oJ8zKpVaEiSB",
        "outputId": "6ed78e28-b7ea-46b5-d5d7-f86d78e5dc60"
      },
      "execution_count": null,
      "outputs": [
        {
          "output_type": "stream",
          "name": "stdout",
          "text": [
            "Value inside : [1, 2, 3, 4, 5]\n",
            "Value outside : [10, 20, 30]\n"
          ]
        }
      ]
    },
    {
      "cell_type": "markdown",
      "source": [
        "## Type of arguments"
      ],
      "metadata": {
        "id": "Yb8kW0YOE_GI"
      }
    },
    {
      "cell_type": "markdown",
      "source": [
        "### **Required arguments** "
      ],
      "metadata": {
        "id": "8cyHc9m1Rdyk"
      }
    },
    {
      "cell_type": "markdown",
      "source": [
        "\n",
        "การส่งจำนวนอาร์กิวเมนต์ให้ตรงกับจำนวนพารามิเตอร์ที่ฟังก์ชัน\n",
        "ประกาศไว้โดยอาร์กิวเมนต์สามารถสลับตำแหน่งกันได้เนื่องจากไพธอนมองทุกอย่างเป็นอ๊อปเจ็กต์ และมีคุณสมบัติการเปลี่ยนชนิดข้อมูลแบบอัตโนมัติ \n",
        "\n",
        "\n",
        "---\n",
        "\n",
        "\n",
        "```\n",
        "def myfunc(number, mylist):\n",
        "num = 5; mylist = [1, 2, 3, 4]\n",
        "myfunc(num, mylist) \n",
        "myfunc(mylist, num)\n",
        "```\n",
        "\n",
        "\n",
        "\n",
        "\n",
        "\n",
        "\n"
      ],
      "metadata": {
        "id": "jVNNC6k0FJJA"
      }
    },
    {
      "cell_type": "code",
      "source": [
        "def printme(str):\n",
        "    print(str)\n",
        "    return"
      ],
      "metadata": {
        "id": "DT9TiqJmFIqA"
      },
      "execution_count": null,
      "outputs": []
    },
    {
      "cell_type": "markdown",
      "source": [
        "### **Keyword arguments** "
      ],
      "metadata": {
        "id": "JcEsIlF8Ggh6"
      }
    },
    {
      "cell_type": "markdown",
      "source": [
        "อาร์กิวเมนต์ที่กำหนดผ่านชื่อตัวแปร"
      ],
      "metadata": {
        "id": "Ojwg9M6aRZ40"
      }
    },
    {
      "cell_type": "code",
      "source": [
        "def printme(str):\n",
        "    print(str)\n",
        "    return\n",
        "\n",
        "printme(str = 'My String!')"
      ],
      "metadata": {
        "id": "3bMO4oslFD64"
      },
      "execution_count": null,
      "outputs": []
    },
    {
      "cell_type": "markdown",
      "source": [
        "### **Swapping arguments**"
      ],
      "metadata": {
        "id": "LUEImDUNDhOY"
      }
    },
    {
      "cell_type": "code",
      "source": [
        "def printinfo(name, age):\n",
        "    print(\"Name :\",name)\n",
        "    print(\"Age :\",age)\n",
        "    return\n",
        "printinfo(age = 5, name = 'Phubadine')"
      ],
      "metadata": {
        "colab": {
          "base_uri": "https://localhost:8080/"
        },
        "id": "bpibONMgC3Mw",
        "outputId": "67c2569a-697c-42eb-b667-da8e10f411ca"
      },
      "execution_count": null,
      "outputs": [
        {
          "output_type": "stream",
          "name": "stdout",
          "text": [
            "Name : Phubadine\n",
            "Age : 5\n"
          ]
        }
      ]
    },
    {
      "cell_type": "markdown",
      "source": [
        "### **Defult arguments**"
      ],
      "metadata": {
        "id": "rGhw0EnCDttA"
      }
    },
    {
      "cell_type": "code",
      "source": [
        "def printinfo(name, age = 35):\n",
        "    print(\"Name :\",name)\n",
        "    print(\"Age :\",age)\n",
        "    return\n",
        "\n",
        "printinfo(age = 50, name = 'Python')\n",
        "printinfo(name='Java')\n"
      ],
      "metadata": {
        "colab": {
          "base_uri": "https://localhost:8080/"
        },
        "id": "aABjgtpVC0Wo",
        "outputId": "f8271bbb-2fa5-4bdf-b509-df5af00cd22e"
      },
      "execution_count": null,
      "outputs": [
        {
          "output_type": "stream",
          "name": "stdout",
          "text": [
            "Name : Python\n",
            "Age : 50\n",
            "Name : Java\n",
            "Age : 35\n"
          ]
        }
      ]
    },
    {
      "cell_type": "code",
      "source": [],
      "metadata": {
        "id": "vHXMmERQRV5U"
      },
      "execution_count": null,
      "outputs": []
    },
    {
      "cell_type": "markdown",
      "source": [
        "### **Variable-length arguments**"
      ],
      "metadata": {
        "id": "ZUuR46M1RSdU"
      }
    },
    {
      "cell_type": "markdown",
      "source": [
        " อาร์กิวเมนต์ที่สามารถบรรจุข้อมูลไว้ได้แบบไม่จำกัดจำนวน\n",
        "เพื่อใช้ในกรณีที่ผู้เขียนโปรแกรมไม่ทราบแน่ชัดว่าฟังก์ชันที่เขียนขึ้นจะต้องใช้ข้อมูลในการทำงานกี่ตัว หรืออาจจะมีข้อมูลที่ไม่ได้คาดการณ์ไว้เกิดขึ้นในอนาคต ไพธอนจึงได้เตรียมอาร์กิวเมนต์ชนิดนี้ไว้ให้\n",
        "ผู้เขียนโปรแกรมเพื่อความยืดหยุ่นในการทำงาน สำหรับรูปแบบอาร์กิวเมนต์แบบ Variable-length\n",
        "arguments \n",
        "\n",
        "---\n",
        "\n",
        "\n",
        "\n",
        "```\n",
        "def functionname([formal_args,]*var_args_tuple):\n",
        "    function_suite\n",
        "    return [expression]\n",
        "```\n",
        "\n"
      ],
      "metadata": {
        "id": "ZnWHuT0fEeZH"
      }
    },
    {
      "cell_type": "code",
      "source": [
        "def printinfo(arg1, *vartuple):\n",
        "    print('Output of formal arg is :',arg1)\n",
        "    for var in vartuple:\n",
        "        print('Output of virtuple arg is :',var)\n",
        "    return"
      ],
      "metadata": {
        "id": "8nHGlzd3FQ9Y"
      },
      "execution_count": null,
      "outputs": []
    },
    {
      "cell_type": "code",
      "source": [
        "printinfo(10)\n",
        "print()\n",
        "printinfo(20, 30, 40)"
      ],
      "metadata": {
        "colab": {
          "base_uri": "https://localhost:8080/"
        },
        "id": "TWrdTzJlFlxR",
        "outputId": "f3bc3e5a-59f6-4290-bf7e-845fe87183f1"
      },
      "execution_count": null,
      "outputs": [
        {
          "output_type": "stream",
          "name": "stdout",
          "text": [
            "Output of formal arg is : 10\n",
            "\n",
            "Output of formal arg is : 20\n",
            "Output of virtuple arg is : 30\n",
            "Output of virtuple arg is : 40\n"
          ]
        }
      ]
    },
    {
      "cell_type": "markdown",
      "source": [
        "## Lambda"
      ],
      "metadata": {
        "id": "_iLsfa1GRlAk"
      }
    },
    {
      "cell_type": "markdown",
      "source": [
        "**Lambda** : ฟังก์ชันที่ไม่ระบุชื่อ หรือ Lambda expression คือ การสร้างฟังก์ชันที่ผู้เขียนโปรแกรม\n",
        "ไม่ต้องการประกาศชื่อฟังก์ชัน แต่ใช้Keyword \"lambda\" แทน def ซึ่งถูกใช้ในการ\n",
        "ประกาศฟังก์ชันแบบปกติโดยมีเงื่อนไขในการสร้าง lambda \n",
        "\n",
        "---\n",
        "\n",
        "1. ฟังก์ชันแบบไม่ระบุชื่อ (Anonymous functions) นี้สามารถกำหนดจำนวนอาร์กิวเมนต์\n",
        "ให้กับฟังก์ชันกี่ตัวก็ได้ แต่การส่งค่ากลับ (return) จากฟังก์ชันมีได้เพียงค่าเดียวเท่านั้น\n",
        "2. ฟังก์ชันแบบไม่ระบุชื่อ ไม่สามารถถูกเรียกใช้เพื่อให้แสดงผล (print) ค่าข้อมูลได้ เพราะจะมี\n",
        "เฉพาะนิพจน์ (Expressions) เท่านั้น\n",
        "หน้า 165\n",
        "3. ตัวแปรที่ใช้ในการประมวลผลของฟังก์ชันแบบไม่ระบุชื่อ จะอยู่ภายในขอบเขตพื้นที่ที่ใช้\n",
        "สำหรับเก็บตัวแปร (namespace) ของตัวเองเท่านั้น และไม่สามารถเรียกข้าม namespace\n",
        "ได้(แม้ว่าภายในฟังก์ชันจะมีการประกาศตัวแปรแบบ global ไว้ก็ตาม ก็ไม่สามารถเรียกใช้\n",
        "งานได้)\n",
        "4. เมื่อมีการประกาศฟังก์ชัน def และ lambda เหมือนกัน ไพธอนจะให้ความสำคัญกับ\n",
        "lambda มากกว่า\n",
        "\n",
        "\n",
        "\n",
        "*   **not define function => use variable**\n",
        "*   **เป็นทางการน้อยกว่า def**\n",
        "*  **ยากต่อการแก้ไข** \n",
        "\n"
      ],
      "metadata": {
        "id": "J-tZpXDtGqwx"
      }
    },
    {
      "cell_type": "markdown",
      "source": [
        "\n",
        "รูปแบบการประกาศฟังก์ชัน\n",
        "```lamdba [arg1[,arg2,...argn]]: expression```\n",
        "\n"
      ],
      "metadata": {
        "id": "k9G11rfaK047"
      }
    },
    {
      "cell_type": "markdown",
      "source": [
        "\n",
        "การเรียกใช้  \n",
        "\n",
        "---\n",
        "\n",
        "```\n",
        "var = lambda arg1, arg2, ..., argn : expression \n",
        "print('Test calling lanbda :',var(arg1, arg2, ..., argn))\n",
        "```\n",
        "\n"
      ],
      "metadata": {
        "id": "HyUpN3ePLkAd"
      }
    },
    {
      "cell_type": "code",
      "source": [
        "sum = lambda arg1, arg2 : arg1+arg2;\n",
        "\n",
        "print('Value of total :', sum(10,20))\n",
        "print('Value of total :', sum(20,20))"
      ],
      "metadata": {
        "colab": {
          "base_uri": "https://localhost:8080/"
        },
        "id": "neEIIWm-LX8E",
        "outputId": "03045c1d-e45f-48bf-f5e4-65dece436129"
      },
      "execution_count": null,
      "outputs": [
        {
          "output_type": "stream",
          "name": "stdout",
          "text": [
            "Value of total : 30\n"
          ]
        }
      ]
    },
    {
      "cell_type": "markdown",
      "source": [
        "### **lambda vs normal function**"
      ],
      "metadata": {
        "id": "QZ784lMPOXwz"
      }
    },
    {
      "cell_type": "code",
      "source": [
        "def f(x, y, z): return x + y + z\n",
        "f = lambda x, y, z: x - y - z\n",
        "\n",
        "print('Calling normal function :',f(2, 2, 2))\n",
        "print('Calling lambda function :',f(5, 2, 2))"
      ],
      "metadata": {
        "colab": {
          "base_uri": "https://localhost:8080/"
        },
        "id": "23D0AaakHgvh",
        "outputId": "08e56cea-fbba-4de0-df38-b1a7d768f7ae"
      },
      "execution_count": null,
      "outputs": [
        {
          "output_type": "stream",
          "name": "stdout",
          "text": [
            "Calling normal function : -2\n",
            "Calling lambda function : 1\n"
          ]
        }
      ]
    },
    {
      "cell_type": "code",
      "source": [
        "f = lambda x, y, z: x - y - z\n",
        "def f(x, y, z): return x + y + z\n",
        "\n",
        "\n",
        "print('Calling normal function :',f(2, 2, 2))\n",
        "print('Calling lambda function :',f(5, 2, 2))"
      ],
      "metadata": {
        "colab": {
          "base_uri": "https://localhost:8080/"
        },
        "id": "4PPkdb5NPH9R",
        "outputId": "bf4759b6-911a-4678-c69b-1ad1d112337d"
      },
      "execution_count": null,
      "outputs": [
        {
          "output_type": "stream",
          "name": "stdout",
          "text": [
            "Calling normal function : 6\n",
            "Calling lambda function : 9\n"
          ]
        }
      ]
    },
    {
      "cell_type": "markdown",
      "source": [
        "### **Lambda vs defult value**"
      ],
      "metadata": {
        "id": "f7JBOCfrPWBs"
      }
    },
    {
      "cell_type": "code",
      "source": [
        "mz = (lambda a='A', b='B', c='C': '[' + a + b + c + ']')\n",
        "\n",
        "print(mz('A'))              #ใช้ [b, c] defult parameters\n",
        "print(mz('A', 'B'))         #ใช้    [c] defult parameters\n",
        "print(mz('A', 'B', 'C'))\n",
        "print(mz('X', 'Y', 'Z'))"
      ],
      "metadata": {
        "colab": {
          "base_uri": "https://localhost:8080/"
        },
        "id": "sAEVaGe5PVm8",
        "outputId": "ec8e2f3c-0cf1-4b62-9f70-de05a0f7204a"
      },
      "execution_count": null,
      "outputs": [
        {
          "output_type": "stream",
          "name": "stdout",
          "text": [
            "[ABC]\n",
            "[ABC]\n",
            "[ABC]\n",
            "[XYZ]\n"
          ]
        }
      ]
    },
    {
      "cell_type": "markdown",
      "source": [
        "### **Lambda in list**"
      ],
      "metadata": {
        "id": "p1gB9cZbQVOQ"
      }
    },
    {
      "cell_type": "code",
      "source": [
        "L = [lambda x: x**2 , lambda x: x**3, lambda x:x**4]\n",
        "\n",
        "for f in L:\n",
        "    print(f(3))\n",
        "print(L[0](11))  #Use lambda x:x**2"
      ],
      "metadata": {
        "colab": {
          "base_uri": "https://localhost:8080/"
        },
        "id": "C7uFCzZfQXz4",
        "outputId": "5c5212d5-10f7-4130-84fe-456d83f8bbc0"
      },
      "execution_count": null,
      "outputs": [
        {
          "output_type": "stream",
          "name": "stdout",
          "text": [
            "<function <lambda> at 0x7f97a615f280> : 9\n",
            "<function <lambda> at 0x7f97a61323a0> : 27\n",
            "<function <lambda> at 0x7f97a6132550> : 81\n",
            "121\n"
          ]
        }
      ]
    },
    {
      "cell_type": "markdown",
      "source": [
        "## Return statement"
      ],
      "metadata": {
        "id": "yaqHjEd5SH4E"
      }
    },
    {
      "cell_type": "markdown",
      "source": [
        "ส่งค่ากลับ \n",
        "```return [expression]```\n",
        "\n",
        "---\n",
        "\n",
        "* ส่งค่ากลับจากตัวแปร \n",
        "```return y = 2.5 * x```\n",
        "\n",
        "* ส่งค่ากลับจากค่าคงที่\n",
        "```return y = -1```\n",
        "\n",
        "* ส่งค่ากลับจากฟังก์ชัน \n",
        "```return myfunc(3 ,3)```\n",
        "\n",
        "* ไม่มีการส่งค่ากลับ\n",
        "```return ```  or ```return; ```\n",
        "\n",
        "\n",
        "\n",
        "\n"
      ],
      "metadata": {
        "id": "cz5zTrmISOJk"
      }
    },
    {
      "cell_type": "markdown",
      "source": [
        "### **Return**"
      ],
      "metadata": {
        "id": "gmOtlKj6Uv6g"
      }
    },
    {
      "cell_type": "code",
      "source": [
        "def sum(x, y):\n",
        "    total = x + y\n",
        "    print('Inside the function :',total)\n",
        "    return total\n",
        "total = sum(10, 20)\n",
        "print('Outside the function :',total)\n"
      ],
      "metadata": {
        "colab": {
          "base_uri": "https://localhost:8080/"
        },
        "id": "u5_X4jILUzXL",
        "outputId": "8ad6c52f-e80b-4308-eb74-2a4ea5f3cbed"
      },
      "execution_count": null,
      "outputs": [
        {
          "output_type": "stream",
          "name": "stdout",
          "text": [
            "Inside the function : 30\n",
            "Outside the function : 30\n"
          ]
        }
      ]
    },
    {
      "cell_type": "markdown",
      "source": [
        "### **Mini-Calculator**"
      ],
      "metadata": {
        "id": "eNzEM3XcSNC8"
      }
    },
    {
      "cell_type": "code",
      "source": [
        "def menu():\n",
        "    print (\"Welcome to calculator program\")\n",
        "    print (\"your options are:\")\n",
        "    print (\" \")\n",
        "    print (\"1) Addition\")\n",
        "    print (\"2) Subtraction\")\n",
        "    print (\"3) Multiplication\")\n",
        "    print (\"4) Division\")\n",
        "    print (\"5) Quit calculator program\")\n",
        "    print (\" \")\n",
        "    return int(input(\"Choose your option: \"))\n",
        "\n",
        "# this adds two numbers given\n",
        "def add(a, b):\n",
        "    print(\"You chose the Addition\")\n",
        "    print (\"Result of \",a, \"+\", b, \"=\", a + b)\n",
        "    return a + b\n",
        "\n",
        "# this subtracts two numbers given\n",
        "def sub(a, b):\n",
        "    print(\"You chose the Subtraction\")\n",
        "    print (\"Result of \",a, \"-\", b, \"=\", a - b)\n",
        "    return a - b\n",
        "\n",
        "# this multiplies two numbers given\n",
        "def mul(a, b):\n",
        "    print(\"You chose the Multiplication\")\n",
        "    print (\"Result of \",a, \"*\", b, \"=\", a * b)\n",
        "    return a * b\n",
        "\n",
        "# this divides two numbers given\n",
        "def div(a, b):\n",
        "    print(\"You chose the Division\")\n",
        "    if b != 0:\n",
        "        print (\"Result of \",a, \"/\", b, \"=\", a / b)\n",
        "        return a / b\n",
        "    else:\n",
        "        print(\"Can't divide by zero\")\n",
        "        return False\n",
        "\n",
        "def main():\n",
        "    loop = 1\n",
        "    choice = 0\n",
        "    while loop == 1:\n",
        "        choice = menu()\n",
        "        if choice == 1:\n",
        "            add(int(input(\"Number 1 : \")),int(input(\"Number2 : \")))\n",
        "        elif choice == 2:\n",
        "            sub(int(input(\"Number 1 : \")),int(input(\"Number2 : \")))\n",
        "        elif choice == 3:\n",
        "            mul(int(input(\"Number 1 : \")),int(input(\"Number2 : \")))\n",
        "        elif choice == 4:\n",
        "            div(int(input(\"Number 1 : \")),int(input(\"Number2 : \")))\n",
        "        elif choice == 5:\n",
        "            loop = 0\n",
        "        else:\n",
        "            print(\"Good bye! \")\n",
        "\n",
        "if __name__ == \"__main__\":\n",
        "    main()"
      ],
      "metadata": {
        "id": "CWce70tkVcPU"
      },
      "execution_count": null,
      "outputs": []
    },
    {
      "cell_type": "markdown",
      "source": [
        "### **Returning multiple values**"
      ],
      "metadata": {
        "id": "SnjpnWivVUr0"
      }
    },
    {
      "cell_type": "code",
      "source": [
        "import random\n",
        "def rollDice():\n",
        "    return (1 + random.randrange(6), 1 + random.randrange(6))\n",
        "\n",
        "d1, d2 = rollDice()\n",
        "print(d1,',',d2)\n",
        "d1, d2 = rollDice()\n",
        "print(d1,',',d2)\n",
        "d1, d2 = rollDice()\n",
        "print(d1,',',d2)"
      ],
      "metadata": {
        "colab": {
          "base_uri": "https://localhost:8080/"
        },
        "id": "ccLl8RnyZ22n",
        "outputId": "4a47b724-8000-46be-8429-fbb310be22f8"
      },
      "execution_count": null,
      "outputs": [
        {
          "output_type": "stream",
          "name": "stdout",
          "text": [
            "2 , 6\n",
            "6 , 6\n",
            "1 , 2\n"
          ]
        }
      ]
    },
    {
      "cell_type": "markdown",
      "source": [
        "## **Scope of variable** "
      ],
      "metadata": {
        "id": "zEbnTZZ2aSgw"
      }
    },
    {
      "cell_type": "markdown",
      "source": [
        "**Global** \n",
        "\n",
        "---\n",
        "\n",
        "main programe ==> calling always\n",
        "\n",
        "\n"
      ],
      "metadata": {
        "id": "HWxIFw08aZSu"
      }
    },
    {
      "cell_type": "markdown",
      "source": [
        "**Local** \n",
        "\n",
        "---\n",
        "\n",
        "calling in function"
      ],
      "metadata": {
        "id": "2m0hHlc6dgWh"
      }
    },
    {
      "cell_type": "code",
      "source": [
        "total = 0\n",
        "def sum(x, y):\n",
        "    total = x + y\n",
        "    print('Total of [local inside] function :', total)\n",
        "    return total\n",
        "sum(5, 10)\n",
        "print('Total of [global outside] function :',total)"
      ],
      "metadata": {
        "colab": {
          "base_uri": "https://localhost:8080/"
        },
        "id": "gvLcGXO3aYte",
        "outputId": "ba7bc77d-752f-4575-ca1c-f3d1867ea0f7"
      },
      "execution_count": null,
      "outputs": [
        {
          "output_type": "stream",
          "name": "stdout",
          "text": [
            "Total of [local inside] function : 15\n",
            "Total of [global outside] function : 0\n"
          ]
        }
      ]
    },
    {
      "cell_type": "markdown",
      "source": [
        "## **Recurion**"
      ],
      "metadata": {
        "id": "nqLKD3PVcHI4"
      }
    },
    {
      "cell_type": "markdown",
      "source": [
        "**การเรียกตัวเอง หรือ การเวียนเกิด**\n",
        "\n",
        "\n",
        "\n",
        "```\n",
        "def name([arg1, ..., argn], n):\n",
        "    statement(s)\n",
        "    if condition(n):\n",
        "        return constant\n",
        "    else:\n",
        "        return name([arg1, ..., argn], n-1)\n",
        "```\n",
        "\n"
      ],
      "metadata": {
        "id": "7h8MgXkmcpAn"
      }
    },
    {
      "cell_type": "markdown",
      "source": [
        "### **Exponent (exp)**"
      ],
      "metadata": {
        "id": "nCmeuw1HdVyP"
      }
    },
    {
      "cell_type": "code",
      "source": [
        "def exp(x, n):\n",
        "    if n==0:\n",
        "        return 1\n",
        "    else:\n",
        "        return x*exp(x, n-1)\n",
        "print('Exponent of 2^4 = ',exp(2,4))"
      ],
      "metadata": {
        "colab": {
          "base_uri": "https://localhost:8080/"
        },
        "id": "uYpV1Fnxcoo9",
        "outputId": "50b7c9df-3dbd-4de5-8e04-6283ae4ec26c"
      },
      "execution_count": null,
      "outputs": [
        {
          "output_type": "stream",
          "name": "stdout",
          "text": [
            "Exponent of 2^4 =  16\n"
          ]
        }
      ]
    },
    {
      "cell_type": "markdown",
      "source": [
        "### **Factorial vs Fibonacci**"
      ],
      "metadata": {
        "id": "7e5XLqQ0eFSm"
      }
    },
    {
      "cell_type": "code",
      "source": [
        "def fac(n):\n",
        "    if n==1:\n",
        "        return 1\n",
        "    else:\n",
        "        return n * fac(n-1)\n",
        " \n",
        "\n",
        "def fib(n):\n",
        "    if n==0:\n",
        "        return 0\n",
        "    elif n==1:\n",
        "        return 1\n",
        "    else:\n",
        "        return fib(n-1) + fib(n-2)\n",
        "print('Factorial : ',fac(5))\n",
        "print('Fibonacci : ',fib(5))"
      ],
      "metadata": {
        "colab": {
          "base_uri": "https://localhost:8080/"
        },
        "id": "_EFFZsbZeOoG",
        "outputId": "5c3729cd-67a5-4311-b2c9-ea3c9c9dab22"
      },
      "execution_count": null,
      "outputs": [
        {
          "output_type": "stream",
          "name": "stdout",
          "text": [
            "Factorial :  120\n",
            "Fibonacci :  5\n"
          ]
        }
      ]
    },
    {
      "cell_type": "markdown",
      "source": [
        "# **Object-Oriented Programming : OOP**"
      ],
      "metadata": {
        "id": "Ep2PsIgngmS1"
      }
    },
    {
      "cell_type": "markdown",
      "source": [
        "## **Programming Paradigms** \n"
      ],
      "metadata": {
        "id": "PPkDBZLYg6ND"
      }
    },
    {
      "cell_type": "markdown",
      "source": [
        "**แนวคิดเกี่ยวกับหลักการเขียนโปรแกรม**\n",
        "\n",
        "---\n",
        "\n",
        "\n",
        "* **Function Programming** : การเขียนโปรแกรมเชิงฟังก์ชัน \n",
        "* **Imperative Programming** : การเขียนโปรแกรมเชิงคำสั่ง\n",
        "* **Object-Oriented Programming** : การเขียนโปรแกรมเชิงวัตถุ\n",
        "* **Logic Programming** : การเขียนโปรแกรมเชิงตรรกะ"
      ],
      "metadata": {
        "id": "2UgPBjh_g_el"
      }
    },
    {
      "cell_type": "markdown",
      "source": [
        "## **OOP : Concept**"
      ],
      "metadata": {
        "id": "ERp4tBvkmHxR"
      }
    },
    {
      "cell_type": "markdown",
      "source": [
        "**Functional/Structure/Procedure programming**\n",
        "\n",
        "---\n",
        "\n",
        "จัดเป็นการเขียนโปรแกรมในรูปแบบเก่า มีลักษณะการเขียนโปรแกรม คือ การมองปัญหาหนึ่งๆ\n",
        "ออกเป็นส่วนย่อยๆ แล้วจึงค่อยแก้ไขไปทีละส่วนจนกว่าจะได้ผลลัพธ์ที่ต้องการ ซึ่งประยุกต์มาจากวิธีคิดของมนุษย์นั่นเอง\n",
        "\n",
        "\n",
        "\n"
      ],
      "metadata": {
        "id": "M0XByYeomzPu"
      }
    },
    {
      "cell_type": "markdown",
      "source": [
        "**Object** \n",
        "\n",
        "---\n",
        "\n",
        "การมองภาพสิ่งต่าง ๆ เป็นวัตถุเป้าหมาย ภายในวัตถุประกอบด้วยคุณสมบัติของวัตถุ (Properties or Attributes) กับพฤติกรรมหรือการกระทำทราตอบสนองต่อเหตุการณ์ต่าง ๆ (Behaviors)\n",
        "\n",
        "---\n",
        "\n",
        "Human\n",
        "* Properties : ตา หู จมูก ลิ้น ผิวหนัง \n",
        "* Behavior : การกิน นอน นั่ง ยืน เดิน\n",
        "\n",
        "Elephant\n",
        "* Properties : สมอง ฟัน งา เล็บ งวง\n",
        "* Behavior : เดิน นอน กิน วิ่ง ลากซุง\n",
        "\n",
        "Car\n",
        "* Properties : สีรถ ขนาด รุ่น ประเภท ความเร็ว\n",
        "* Behavior : เคลื่อนที่ เร่งความเร็ว หยุด เลี้ยว"
      ],
      "metadata": {
        "id": "nhxqeKgwdUti"
      }
    },
    {
      "cell_type": "markdown",
      "source": [
        "**Operation** \n",
        "\n",
        "---\n",
        "\n",
        "ตัวดำเนินการ หรือ Medthod เป็นการสั่งงานพฤติกรรมต่าง ๆ ของวัตถุ"
      ],
      "metadata": {
        "id": "h2efj6Kye6iS"
      }
    },
    {
      "cell_type": "markdown",
      "source": [
        "**Instance**\n",
        "\n",
        "---\n",
        "\n",
        "วัตถุที่ใช้งานจริง ๆ ถูกสร้างขึ้นในคลาสนั้น ๆ \n",
        "\n",
        "```object = Classname()```\n",
        "\n"
      ],
      "metadata": {
        "id": "QQGMTorRDk5J"
      }
    },
    {
      "cell_type": "markdown",
      "source": [
        "**Encapsulation/Data hinding**\n",
        "\n",
        "---\n",
        "\n",
        "การห่อหุ้มข้อมูล/การซ่อนข้อมูล คือ ***การรวมข้อมูลและฟังก์ชันเข้าไว้ในวัตถุเดียวกัน*** และมีกลไกที่จะอนุญาตหรือไม่อนุญาตให้วัตถุอื่น ๆ เข้าถึงได้"
      ],
      "metadata": {
        "id": "degU1hSEDyJJ"
      }
    },
    {
      "cell_type": "markdown",
      "source": [
        "**Polymorphism**\n",
        "\n",
        "---\n",
        "\n",
        "**การพ้องรูป** คือ เป็นคุณสมบัติของวัตถุใหม่ที่เกิดจากวัตถุแม่ชนิดเดียวกัน มีความสามารถเหมือนแม่ แต่ผลลัพธ์ไม่เหมือน (มีลักษณะเฉพาะตัว)"
      ],
      "metadata": {
        "id": "o20MEarNIBHJ"
      }
    },
    {
      "cell_type": "markdown",
      "source": [
        "## **Creating Class**\n",
        "\n",
        "```\n",
        "class Classname:\n",
        "    'class documentation'\n",
        "    class_suite\n",
        "```\n",
        "* **class documentation** : อธิบายคุณลักษณะของคลาส ```\n",
        "Classname.__doc__```\n",
        "\n",
        "* **class_suite** : ส่วนของคำสั่งและคุณสมบัติต่าง ๆ ประกอบด้วย สมาชิกคลาส แอตทริบิวต์และเมธอดต่าง ๆ \n",
        "\n",
        "\n",
        "\n",
        "\n",
        "\n",
        "\n",
        "\n",
        "\n",
        "\n"
      ],
      "metadata": {
        "id": "-J_ONxMNKaHp"
      }
    },
    {
      "cell_type": "markdown",
      "source": [
        "### **Class variable** \n",
        "\n",
        "---\n",
        "\n",
        "ตัวแปรที่สามารถใช้งานร่วมกัน (Share) ระหว่างอินสแตนซ์และต่าง\n",
        "อินสแตนซ์ได้ โดยตัวแปร Class variable จะถูกกำหนดขึ้นภายในคลาสแต่อยู่นอกเมธอดของคลาส\n",
        "\n"
      ],
      "metadata": {
        "id": "-E7bKo44NPhm"
      }
    },
    {
      "cell_type": "markdown",
      "source": [
        "### **Method** \n",
        "\n",
        "---\n",
        "\n",
        "คือฟังก์ชันชนิดหนึ่งที่ถูกสร้างขึ้นภายในคลาส เพื่อใช้ดำเนินการกระทำที่\n",
        "ตอบสนองต่อเหตุการณ์ต่างๆ ของวัตถุ\n",
        "```\n",
        "def cal_area(self, w, h):\n",
        "    return w * h\n",
        "```"
      ],
      "metadata": {
        "id": "qbaUO_X5M8yf"
      }
    },
    {
      "cell_type": "markdown",
      "source": [
        "### **Attributes**\n",
        "\n",
        "---\n",
        "\n",
        "ตัวแปร ค่าคงที่ หรือ\n",
        "Class variable สำหรับเก็บข้อมูลที่มีความสัมพันธ์กับคลาสและวัตถุอยู่ภายในคลาส\n",
        "```\n",
        "class Book:\n",
        "    wide = 50\n",
        "    high = 100\n",
        "    def ...\n",
        "```"
      ],
      "metadata": {
        "id": "mk-NDmzjMrWv"
      }
    },
    {
      "cell_type": "markdown",
      "source": [
        "**แสดง Attributes**"
      ],
      "metadata": {
        "id": "k2x7rb04NYEv"
      }
    },
    {
      "cell_type": "code",
      "source": [
        "class Book:\n",
        "    # Attributes\n",
        "    wide = 25\n",
        "    high = 30\n",
        "    page = 250\n",
        "    # Method Instance and Parameters\n",
        "    def showBook(self, name, isbn):\n",
        "        self.name = name\n",
        "        self.isbn = isbn\n",
        "        return self.name, Book.wide, Book.high, Book.page, self.isbn\n",
        "\n",
        "b_it = Book()\n",
        "b_web = Book()\n",
        "\n",
        "print(b_it.showBook('IT', '123456'))\n",
        "print(b_web.showBook('WEB', '00000'))\n"
      ],
      "metadata": {
        "colab": {
          "base_uri": "https://localhost:8080/"
        },
        "id": "5r_GolmyJtR_",
        "outputId": "64925695-d86a-4c1f-ab46-5cb6f4dc9042"
      },
      "execution_count": null,
      "outputs": [
        {
          "output_type": "stream",
          "name": "stdout",
          "text": [
            "('IT', 25, 30, 250, '123456')\n",
            "('WEB', 25, 30, 250, '00000')\n"
          ]
        }
      ]
    },
    {
      "cell_type": "markdown",
      "source": [
        "### **Constructor** \n",
        "\n",
        "---\n",
        "\n",
        "เมธอดหรือฟังก์ชันที่สร้างตัวเองโดยอัตโนมัติเมื่อมีการ\n",
        "สร้างวัตถุหรืออินสแตนซ์จากคลาส มีเป้าหมายเพื่อเป็นการกำหนดสภาพแวดล้อมก่อนเริ่มต้นการ\n",
        "ทำงานสำหรับไพธอนมีชื่อเมธอด \n",
        "```\n",
        "def __init__(self, x, y, z):\n",
        "    self.x = x\n",
        "    self.y = y\n",
        "    self.z = z\n",
        "```"
      ],
      "metadata": {
        "id": "H29Z164_NGWX"
      }
    },
    {
      "cell_type": "markdown",
      "source": [
        "**Build Constructor**"
      ],
      "metadata": {
        "id": "bWtRIPnfNo-3"
      }
    },
    {
      "cell_type": "code",
      "source": [
        "class Book:\n",
        "    # Bulid Constructor\n",
        "    def __init__(self, name, wide, high, page, isbn, price):\n",
        "        # Bulid Attributes\n",
        "        print('Build Constructor!')\n",
        "        self.name = name\n",
        "        self.wide = wide\n",
        "        self.high = high\n",
        "        self.page = page\n",
        "        self.isbn = isbn\n",
        "        self.price = price\n",
        "    def showBook(self):\n",
        "        return self.name, self.wide, self.high, self.page, self.isbn, self.price\n",
        "\n",
        "# Build Instance\n",
        "b_IT = Book('Python', 25, 30, 350, '123-123', 300)\n",
        "print(b_IT.showBook())\n",
        "\n",
        "b_IT.price = 199\n",
        "print(b_IT.showBook())"
      ],
      "metadata": {
        "colab": {
          "base_uri": "https://localhost:8080/"
        },
        "id": "F8oaogGHNsKf",
        "outputId": "c6b857f8-daf7-4461-95ee-09ab427f1105"
      },
      "execution_count": null,
      "outputs": [
        {
          "output_type": "stream",
          "name": "stdout",
          "text": [
            "('Python', 25, 30, 350, '123-123', 300)\n",
            "('Python', 25, 30, 350, '123-123', 199)\n"
          ]
        }
      ]
    },
    {
      "cell_type": "markdown",
      "source": [
        "### **Inheritance**\n",
        "\n",
        "---\n",
        "\n",
        "**การสืบทอด** คือ คลาสแม่หรือคลาสหลัก (Super Class) สามารถสืบทอดไปยังคลาสลูก (Sub Class) จะเหมือนคลาสแม่ และเพิ่มคุณสมบัติใหม่เข้าไปได้\n",
        "\n",
        "\n",
        "\n",
        "```\n",
        "class Superclass:\n",
        "    Statement(s)\n",
        "class Subclass(Superclass):\n",
        "    Statement(s)\n",
        "```\n",
        "\n"
      ],
      "metadata": {
        "id": "QQY8g8FEA2oJ"
      }
    },
    {
      "cell_type": "code",
      "source": [
        "class Book:\n",
        "    def __init__(self, name, size, page, price):\n",
        "        self.name = name\n",
        "        self.size = size\n",
        "        self.page = page\n",
        "        self.price = price\n",
        "    def showBook(self):\n",
        "        return self.name, self.size, self.page, self.price\n",
        "\n",
        "class Book_IT(Book):      #Subclass from Class Book\n",
        "    pass\n",
        "\n",
        "book = Book('Python', '25 x 30', 253, 200)\n",
        "book_it = Book_IT('Information', '50 x 15', 110, 150)\n",
        "\n",
        "print(book.showBook())\n",
        "print(book_it.showBook())"
      ],
      "metadata": {
        "colab": {
          "base_uri": "https://localhost:8080/"
        },
        "id": "zgcWK6dHQJ0I",
        "outputId": "66837048-efd2-472a-f3dc-a32f1b73a0c5"
      },
      "execution_count": null,
      "outputs": [
        {
          "output_type": "stream",
          "name": "stdout",
          "text": [
            "('Python', '25 x 30', 253, 200)\n",
            "('Information', '50 x 15', 110, 150)\n"
          ]
        }
      ]
    },
    {
      "cell_type": "markdown",
      "source": [
        "### **Ex 1 : CAR**"
      ],
      "metadata": {
        "id": "9xv07hBuQEJw"
      }
    },
    {
      "cell_type": "code",
      "source": [
        "class Car:\n",
        "    'Basic class'\n",
        "    # attributes\n",
        "    color = 'No brand yet'\n",
        "    brand = 'No brand yet'\n",
        "    number_of_seats = 4\n",
        "    number_of_wheels = 4\n",
        "    maxSpeed = 0\n",
        "    registration_number = 0\n",
        "\n",
        "    def __init__(self, color, brand, number_of_seats, number_of_wheels, maxSpeed):\n",
        "        self.color = color\n",
        "        self.brand = brand\n",
        "        self.number_of_seats = number_of_seats\n",
        "        self.number_of_wheels = number_of_wheels\n",
        "        self.maxSpeed = maxSpeed\n",
        "        Car.registration_number += 1\n",
        "\n",
        "    def setColor(self, x):\n",
        "        self.color = x\n",
        "\n",
        "    def setBrand(self, x):\n",
        "        self.brand = x\n",
        "    \n",
        "    def setNumberOfSeats(self, x):\n",
        "        self.number_of_seats = x\n",
        "\n",
        "    def setNumberOfWheels(self, x):\n",
        "        self.number_of_wheels = x\n",
        "\n",
        "    def setMaxSpeed(self, x):\n",
        "        self.maxSpeed = x\n",
        "\n",
        "    def printData(self):\n",
        "        print(\"The color of this car is :\", self.color)\n",
        "        print(\"The car was manufactured by :\", self.brand)\n",
        "        print(\"The number of seats is :\",self.number_of_seats, \"seats.\")\n",
        "        print(\"The number of wheels is :\",self.number_of_wheels, \"wheels.\")\n",
        "        print(\"The maximum speed is :\", self.maxSpeed,\"km/h.\")\n",
        "        print(\"The registration number is :\",self.registration_number)\n"
      ],
      "metadata": {
        "id": "CQ6HpgpVRP3b"
      },
      "execution_count": null,
      "outputs": []
    },
    {
      "cell_type": "code",
      "source": [
        "print(Car.__doc__)"
      ],
      "metadata": {
        "colab": {
          "base_uri": "https://localhost:8080/"
        },
        "id": "DrS9SlGbzh9d",
        "outputId": "4892d5f7-6ddd-43e7-9196-e0bf5efc70c4"
      },
      "execution_count": null,
      "outputs": [
        {
          "output_type": "stream",
          "name": "stdout",
          "text": [
            "Basic class\n"
          ]
        }
      ]
    },
    {
      "cell_type": "code",
      "source": [
        "# Creating instance and use it\n",
        "car1 = Car('red','Toyota',4,4,150)\n",
        "car1.setBrand('Benz')\n",
        "car1.printData()\n",
        "\n",
        "print()\n",
        "\n",
        "car1.color = 'Blue'\n",
        "car1.setMaxSpeed(400)\n",
        "car1.printData()\n",
        "\n",
        "print()\n",
        "\n",
        "car2 = Car('Yellow','Honda',4,4,170)\n",
        "car2.printData()"
      ],
      "metadata": {
        "colab": {
          "base_uri": "https://localhost:8080/"
        },
        "id": "FballP3BWCyk",
        "outputId": "c1aec66e-06bc-4032-913e-20f3d572fc8c"
      },
      "execution_count": null,
      "outputs": [
        {
          "output_type": "stream",
          "name": "stdout",
          "text": [
            "The color of this car is : red\n",
            "The car was manufactured by : Benz\n",
            "The number of seats is : 4 seats.\n",
            "The number of wheels is : 4 wheels.\n",
            "The maximum speed is : 150 km/h.\n",
            "The registration number is : 1\n",
            "\n",
            "The color of this car is : Blue\n",
            "The car was manufactured by : Benz\n",
            "The number of seats is : 4 seats.\n",
            "The number of wheels is : 4 wheels.\n",
            "The maximum speed is : 400 km/h.\n",
            "The registration number is : 1\n",
            "\n",
            "The color of this car is : Yellow\n",
            "The car was manufactured by : Honda\n",
            "The number of seats is : 4 seats.\n",
            "The number of wheels is : 4 wheels.\n",
            "The maximum speed is : 170 km/h.\n",
            "The registration number is : 2\n"
          ]
        }
      ]
    },
    {
      "cell_type": "markdown",
      "source": [
        "### **EX 2 : School**"
      ],
      "metadata": {
        "id": "0i6Fi1t4U6QP"
      }
    },
    {
      "cell_type": "code",
      "source": [
        "class School:\n",
        "    # Attribute\n",
        "    schoolName = 'Uncle Engineer'\n",
        "\n",
        "    # Constructor (Auto run)\n",
        "    def __init__(self, subject, type):\n",
        "        # print('!!!Build Instance Success!!!')\n",
        "        self.subject = subject\n",
        "        self.type = type\n",
        "\n",
        "    # Method\n",
        "    def hello(self):\n",
        "        print('Good Morning!')\n",
        "        return\n",
        "\n",
        "    def teach(self):\n",
        "        print(f'Open subject : {self.subject}')\n",
        "\n",
        "\n",
        "class Student(School):\n",
        "    def __init__(self, fullname, level, score, subject, type):\n",
        "        super().__init__(subject, type)\n",
        "        self.fullname = fullname\n",
        "        self.level = level\n",
        "        self.score = score\n",
        "\n",
        "    def checkGrade(self):\n",
        "        grade = 'AAABCDFFFF'\n",
        "        index = self.score//10\n",
        "        grade_end = grade[-index]\n",
        "        print(f'Grade [{self.subject}] :', grade_end)\n",
        "        # return grade_end\n",
        "\n",
        "\n",
        "# Instance\n",
        "# school = School('Java', 60)\n",
        "# print('school name :', school.schoolName)\n",
        "# print('school name :', school.type)\n",
        "# school.hello()\n",
        "# school.teach()\n",
        "print('===================================')\n",
        "\n",
        "student01 = Student('Iron man', 5, 55, 'Python', '0')\n",
        "student01.hello()\n",
        "print(student01.schoolName)        # Calling Method from School Class\n",
        "print('Full name :', student01.fullname)\n",
        "print('Level :', student01.level)\n",
        "print('Score :', student01.score)\n",
        "student01.checkGrade()\n",
        "\n",
        "print('===================================')\n",
        "\n",
        "student02 = Student('Spider man', 6, 84, 'C#', '1')\n",
        "print(student01.schoolName)        # Calling Method from School Class\n",
        "print('Full name :', student02.fullname)\n",
        "print('Level :', student02.level)\n",
        "print('Score :', student02.score)\n",
        "student02.checkGrade()\n",
        "\n",
        "print('===================================')\n",
        "\n",
        "student03 = Student('Hulk', 7, 49, 'Java', '2')\n",
        "print(student01.schoolName)        # Calling Method from School Class\n",
        "print('Full name :', student03.fullname)\n",
        "print('Level :', student03.level)\n",
        "print('Score :', student03.score)\n",
        "student03.checkGrade()\n",
        "\n",
        "print('===================================')\n",
        "\n"
      ],
      "metadata": {
        "colab": {
          "base_uri": "https://localhost:8080/"
        },
        "id": "49V0cfZiWIRC",
        "outputId": "20fbdd2c-cbc3-4f10-d448-d110d78570db"
      },
      "execution_count": null,
      "outputs": [
        {
          "output_type": "stream",
          "name": "stdout",
          "text": [
            "===================================\n",
            "Good Morning!\n",
            "Uncle Engineer\n",
            "Full name : Iron man\n",
            "Level : 5\n",
            "Score : 55\n",
            "Grade [Python] : D\n",
            "===================================\n",
            "Uncle Engineer\n",
            "Full name : Spider man\n",
            "Level : 6\n",
            "Score : 84\n",
            "Grade [C#] : A\n",
            "===================================\n",
            "Uncle Engineer\n",
            "Full name : Hulk\n",
            "Level : 7\n",
            "Score : 49\n",
            "Grade [Java] : F\n",
            "===================================\n"
          ]
        }
      ]
    },
    {
      "cell_type": "code",
      "source": [
        "class Employee:\n",
        "    'To declear super class Employee for all employee'\n",
        "    empCount = 0\n",
        "    def __init__(self, name, salary):\n",
        "        self.name = name\n",
        "        self.salary = salary\n",
        "        Employee.empCount += 1\n",
        "\n",
        "    def displayCount(self):\n",
        "        print('Total Employee =', Employee.empCount)\n",
        "    \n",
        "    def displayEmployee(self):\n",
        "        print('Name :',self.name,', Salary : ', self.salary)\n",
        "\n",
        "employee1 = Employee('John', 25_000)\n",
        "employee2 = Employee('Lisa', 20_000)\n",
        "employee1.displayEmployee()\n",
        "employee2.displayEmployee()\n",
        "\n",
        "employee1.displayCount() \n",
        "\n",
        "employee1.empCount = 5        ### No damage\n",
        "employee1.salary = 30_000\n",
        "employee2.salary = 28_000\n",
        "\n",
        "employee1.displayEmployee()\n",
        "employee2.displayEmployee()\n",
        "\n",
        "employee2.displayCount() \n",
        "           \n",
        "Employee.empCount = 5     ### damage !\n",
        "\n",
        "employee1.displayCount()"
      ],
      "metadata": {
        "colab": {
          "base_uri": "https://localhost:8080/"
        },
        "id": "a4RKHjb-idAP",
        "outputId": "5ae47c78-407d-49e8-d01c-f7e4bf50b478"
      },
      "execution_count": null,
      "outputs": [
        {
          "output_type": "stream",
          "name": "stdout",
          "text": [
            "Name : John , Salary :  25000\n",
            "Name : Lisa , Salary :  20000\n",
            "Total Employee = 2\n",
            "Name : John , Salary :  30000\n",
            "Name : Lisa , Salary :  28000\n",
            "Total Employee = 2\n",
            "Total Employee = 5\n"
          ]
        }
      ]
    },
    {
      "cell_type": "markdown",
      "source": [
        "## Accesing attributes and methods"
      ],
      "metadata": {
        "id": "hC3u8aGFtfFZ"
      }
    },
    {
      "cell_type": "markdown",
      "source": [
        "Normal accesing **Attribute** ==> \n",
        "```Instance of Object.attribute```\n",
        "\n",
        "Normal accesing **Method** ==>\n",
        "```Instance of Object.method()```\n",
        "\n",
        "---\n",
        "\n",
        "Accesing **Attribute [Class variable type]** ==>\n",
        "```Class.class_variable```\n",
        "\n",
        "* Python access (add edit delete) attribute is not build before , Can add after build Instance\n",
        "\n"
      ],
      "metadata": {
        "id": "cbxoolTRtoBx"
      }
    },
    {
      "cell_type": "code",
      "source": [
        "car1.fuel = 'binzine'\n",
        "employee1.age = 35"
      ],
      "metadata": {
        "id": "2ymdRbwsy1nq"
      },
      "execution_count": null,
      "outputs": []
    },
    {
      "cell_type": "markdown",
      "source": [
        "ไม่แนะนำ ถ้าไม่จำเป็น"
      ],
      "metadata": {
        "id": "KkBAnSGP3ANj"
      }
    },
    {
      "cell_type": "code",
      "source": [
        "del car1.fuel \n",
        "del employee1.age "
      ],
      "metadata": {
        "id": "z0FSX504zJxs"
      },
      "execution_count": null,
      "outputs": []
    },
    {
      "cell_type": "markdown",
      "source": [],
      "metadata": {
        "id": "KSPFVkJq3W9L"
      }
    }
  ]
}